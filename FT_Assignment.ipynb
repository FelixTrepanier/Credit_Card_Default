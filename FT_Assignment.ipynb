{
 "cells": [
  {
   "cell_type": "markdown",
   "source": [
    "# Credit Sesame Takehome Assignment\n",
    "Finding the default probability of clients. For more information on this dataset, here is the [link](https://archive.ics.uci.edu/ml/datasets/default+of+credit+card+clients#) to it."
   ],
   "metadata": {}
  },
  {
   "cell_type": "code",
   "execution_count": 1,
   "source": [
    "import pandas as pd\n",
    "import numpy as np\n",
    "\n",
    "import os\n",
    "\n",
    "import seaborn as sns\n",
    "import matplotlib\n",
    "import matplotlib.pyplot as plt\n",
    "\n",
    "from sklearn.compose import ColumnTransformer\n",
    "from sklearn.pipeline import Pipeline\n",
    "from sklearn.preprocessing import StandardScaler, OneHotEncoder\n",
    "from sklearn.linear_model import LogisticRegression, SGDClassifier\n",
    "from sklearn.model_selection import train_test_split, KFold, cross_val_score, GridSearchCV, RandomizedSearchCV\n",
    "from sklearn.metrics import log_loss\n",
    "from sklearn.ensemble import RandomForestClassifier, AdaBoostClassifier\n",
    "from sklearn.neighbors import KNeighborsClassifier\n",
    "\n",
    "import xgboost as xgb"
   ],
   "outputs": [],
   "metadata": {
    "scrolled": false
   }
  },
  {
   "cell_type": "markdown",
   "source": [
    "## Settings"
   ],
   "metadata": {}
  },
  {
   "cell_type": "code",
   "execution_count": 2,
   "source": [
    "%matplotlib inline\n",
    "plt.rcParams[\"figure.figsize\"] = (12,8)\n",
    "\n",
    "pd.set_option('display.max_columns', None)"
   ],
   "outputs": [],
   "metadata": {
    "scrolled": false
   }
  },
  {
   "cell_type": "markdown",
   "source": [
    "## Parameters"
   ],
   "metadata": {}
  },
  {
   "cell_type": "code",
   "execution_count": 3,
   "source": [
    "SEED = 1234\n",
    "\n",
    "TARGET = 'default_payment_next_month'\n",
    "CLS_WEIGHT ={0:1,1:(1-.22)/.22}\n",
    "FOLDS = 5"
   ],
   "outputs": [],
   "metadata": {
    "scrolled": false
   }
  },
  {
   "cell_type": "markdown",
   "source": [
    "## Setting the directory and loading the data"
   ],
   "metadata": {}
  },
  {
   "cell_type": "code",
   "execution_count": 4,
   "source": [
    "directory = os.path.dirname(os.path.realpath(\"__file__\"))\n",
    "print(directory)"
   ],
   "outputs": [
    {
     "output_type": "stream",
     "name": "stdout",
     "text": [
      "C:\\Users\\Felix Trepanier\\Desktop\\Job Search 2021\\Credit Sesame Data Scientist ML\\Credit_Assignment\n"
     ]
    }
   ],
   "metadata": {
    "scrolled": false
   }
  },
  {
   "cell_type": "code",
   "execution_count": 5,
   "source": [
    "df = pd.read_excel(directory+\"\\Data\\default of credit card clients.xls\", header = 1, index_col = 0)\n",
    "df.head(5)"
   ],
   "outputs": [
    {
     "output_type": "execute_result",
     "data": {
      "text/html": [
       "<div>\n",
       "<style scoped>\n",
       "    .dataframe tbody tr th:only-of-type {\n",
       "        vertical-align: middle;\n",
       "    }\n",
       "\n",
       "    .dataframe tbody tr th {\n",
       "        vertical-align: top;\n",
       "    }\n",
       "\n",
       "    .dataframe thead th {\n",
       "        text-align: right;\n",
       "    }\n",
       "</style>\n",
       "<table border=\"1\" class=\"dataframe\">\n",
       "  <thead>\n",
       "    <tr style=\"text-align: right;\">\n",
       "      <th></th>\n",
       "      <th>LIMIT_BAL</th>\n",
       "      <th>SEX</th>\n",
       "      <th>EDUCATION</th>\n",
       "      <th>MARRIAGE</th>\n",
       "      <th>AGE</th>\n",
       "      <th>PAY_0</th>\n",
       "      <th>PAY_2</th>\n",
       "      <th>PAY_3</th>\n",
       "      <th>PAY_4</th>\n",
       "      <th>PAY_5</th>\n",
       "      <th>PAY_6</th>\n",
       "      <th>BILL_AMT1</th>\n",
       "      <th>BILL_AMT2</th>\n",
       "      <th>BILL_AMT3</th>\n",
       "      <th>BILL_AMT4</th>\n",
       "      <th>BILL_AMT5</th>\n",
       "      <th>BILL_AMT6</th>\n",
       "      <th>PAY_AMT1</th>\n",
       "      <th>PAY_AMT2</th>\n",
       "      <th>PAY_AMT3</th>\n",
       "      <th>PAY_AMT4</th>\n",
       "      <th>PAY_AMT5</th>\n",
       "      <th>PAY_AMT6</th>\n",
       "      <th>default payment next month</th>\n",
       "    </tr>\n",
       "    <tr>\n",
       "      <th>ID</th>\n",
       "      <th></th>\n",
       "      <th></th>\n",
       "      <th></th>\n",
       "      <th></th>\n",
       "      <th></th>\n",
       "      <th></th>\n",
       "      <th></th>\n",
       "      <th></th>\n",
       "      <th></th>\n",
       "      <th></th>\n",
       "      <th></th>\n",
       "      <th></th>\n",
       "      <th></th>\n",
       "      <th></th>\n",
       "      <th></th>\n",
       "      <th></th>\n",
       "      <th></th>\n",
       "      <th></th>\n",
       "      <th></th>\n",
       "      <th></th>\n",
       "      <th></th>\n",
       "      <th></th>\n",
       "      <th></th>\n",
       "      <th></th>\n",
       "    </tr>\n",
       "  </thead>\n",
       "  <tbody>\n",
       "    <tr>\n",
       "      <th>1</th>\n",
       "      <td>20000</td>\n",
       "      <td>2</td>\n",
       "      <td>2</td>\n",
       "      <td>1</td>\n",
       "      <td>24</td>\n",
       "      <td>2</td>\n",
       "      <td>2</td>\n",
       "      <td>-1</td>\n",
       "      <td>-1</td>\n",
       "      <td>-2</td>\n",
       "      <td>-2</td>\n",
       "      <td>3913</td>\n",
       "      <td>3102</td>\n",
       "      <td>689</td>\n",
       "      <td>0</td>\n",
       "      <td>0</td>\n",
       "      <td>0</td>\n",
       "      <td>0</td>\n",
       "      <td>689</td>\n",
       "      <td>0</td>\n",
       "      <td>0</td>\n",
       "      <td>0</td>\n",
       "      <td>0</td>\n",
       "      <td>1</td>\n",
       "    </tr>\n",
       "    <tr>\n",
       "      <th>2</th>\n",
       "      <td>120000</td>\n",
       "      <td>2</td>\n",
       "      <td>2</td>\n",
       "      <td>2</td>\n",
       "      <td>26</td>\n",
       "      <td>-1</td>\n",
       "      <td>2</td>\n",
       "      <td>0</td>\n",
       "      <td>0</td>\n",
       "      <td>0</td>\n",
       "      <td>2</td>\n",
       "      <td>2682</td>\n",
       "      <td>1725</td>\n",
       "      <td>2682</td>\n",
       "      <td>3272</td>\n",
       "      <td>3455</td>\n",
       "      <td>3261</td>\n",
       "      <td>0</td>\n",
       "      <td>1000</td>\n",
       "      <td>1000</td>\n",
       "      <td>1000</td>\n",
       "      <td>0</td>\n",
       "      <td>2000</td>\n",
       "      <td>1</td>\n",
       "    </tr>\n",
       "    <tr>\n",
       "      <th>3</th>\n",
       "      <td>90000</td>\n",
       "      <td>2</td>\n",
       "      <td>2</td>\n",
       "      <td>2</td>\n",
       "      <td>34</td>\n",
       "      <td>0</td>\n",
       "      <td>0</td>\n",
       "      <td>0</td>\n",
       "      <td>0</td>\n",
       "      <td>0</td>\n",
       "      <td>0</td>\n",
       "      <td>29239</td>\n",
       "      <td>14027</td>\n",
       "      <td>13559</td>\n",
       "      <td>14331</td>\n",
       "      <td>14948</td>\n",
       "      <td>15549</td>\n",
       "      <td>1518</td>\n",
       "      <td>1500</td>\n",
       "      <td>1000</td>\n",
       "      <td>1000</td>\n",
       "      <td>1000</td>\n",
       "      <td>5000</td>\n",
       "      <td>0</td>\n",
       "    </tr>\n",
       "    <tr>\n",
       "      <th>4</th>\n",
       "      <td>50000</td>\n",
       "      <td>2</td>\n",
       "      <td>2</td>\n",
       "      <td>1</td>\n",
       "      <td>37</td>\n",
       "      <td>0</td>\n",
       "      <td>0</td>\n",
       "      <td>0</td>\n",
       "      <td>0</td>\n",
       "      <td>0</td>\n",
       "      <td>0</td>\n",
       "      <td>46990</td>\n",
       "      <td>48233</td>\n",
       "      <td>49291</td>\n",
       "      <td>28314</td>\n",
       "      <td>28959</td>\n",
       "      <td>29547</td>\n",
       "      <td>2000</td>\n",
       "      <td>2019</td>\n",
       "      <td>1200</td>\n",
       "      <td>1100</td>\n",
       "      <td>1069</td>\n",
       "      <td>1000</td>\n",
       "      <td>0</td>\n",
       "    </tr>\n",
       "    <tr>\n",
       "      <th>5</th>\n",
       "      <td>50000</td>\n",
       "      <td>1</td>\n",
       "      <td>2</td>\n",
       "      <td>1</td>\n",
       "      <td>57</td>\n",
       "      <td>-1</td>\n",
       "      <td>0</td>\n",
       "      <td>-1</td>\n",
       "      <td>0</td>\n",
       "      <td>0</td>\n",
       "      <td>0</td>\n",
       "      <td>8617</td>\n",
       "      <td>5670</td>\n",
       "      <td>35835</td>\n",
       "      <td>20940</td>\n",
       "      <td>19146</td>\n",
       "      <td>19131</td>\n",
       "      <td>2000</td>\n",
       "      <td>36681</td>\n",
       "      <td>10000</td>\n",
       "      <td>9000</td>\n",
       "      <td>689</td>\n",
       "      <td>679</td>\n",
       "      <td>0</td>\n",
       "    </tr>\n",
       "  </tbody>\n",
       "</table>\n",
       "</div>"
      ],
      "text/plain": [
       "    LIMIT_BAL  SEX  EDUCATION  MARRIAGE  AGE  PAY_0  PAY_2  PAY_3  PAY_4  \\\n",
       "ID                                                                         \n",
       "1       20000    2          2         1   24      2      2     -1     -1   \n",
       "2      120000    2          2         2   26     -1      2      0      0   \n",
       "3       90000    2          2         2   34      0      0      0      0   \n",
       "4       50000    2          2         1   37      0      0      0      0   \n",
       "5       50000    1          2         1   57     -1      0     -1      0   \n",
       "\n",
       "    PAY_5  PAY_6  BILL_AMT1  BILL_AMT2  BILL_AMT3  BILL_AMT4  BILL_AMT5  \\\n",
       "ID                                                                        \n",
       "1      -2     -2       3913       3102        689          0          0   \n",
       "2       0      2       2682       1725       2682       3272       3455   \n",
       "3       0      0      29239      14027      13559      14331      14948   \n",
       "4       0      0      46990      48233      49291      28314      28959   \n",
       "5       0      0       8617       5670      35835      20940      19146   \n",
       "\n",
       "    BILL_AMT6  PAY_AMT1  PAY_AMT2  PAY_AMT3  PAY_AMT4  PAY_AMT5  PAY_AMT6  \\\n",
       "ID                                                                          \n",
       "1           0         0       689         0         0         0         0   \n",
       "2        3261         0      1000      1000      1000         0      2000   \n",
       "3       15549      1518      1500      1000      1000      1000      5000   \n",
       "4       29547      2000      2019      1200      1100      1069      1000   \n",
       "5       19131      2000     36681     10000      9000       689       679   \n",
       "\n",
       "    default payment next month  \n",
       "ID                              \n",
       "1                            1  \n",
       "2                            1  \n",
       "3                            0  \n",
       "4                            0  \n",
       "5                            0  "
      ]
     },
     "metadata": {},
     "execution_count": 5
    }
   ],
   "metadata": {
    "scrolled": true
   }
  },
  {
   "cell_type": "markdown",
   "source": [
    "## Initial data cleaning and data exploration\n",
    "#### Renaming columns function"
   ],
   "metadata": {}
  },
  {
   "cell_type": "code",
   "execution_count": 6,
   "source": [
    "def fix_col_names(pd_df: pd.DataFrame)->pd.DataFrame:\n",
    "    \"\"\"Takes a dataframe and replaces spaces with underscores in column names. Puts column name in lowercase.\"\"\"\n",
    "    pd_df.columns = pd_df.columns.str.replace(' ', '_').str.lower()\n",
    "    return pd_df\n",
    "\n",
    "\n",
    "df = fix_col_names(df)\n",
    "df.columns"
   ],
   "outputs": [
    {
     "output_type": "execute_result",
     "data": {
      "text/plain": [
       "Index(['limit_bal', 'sex', 'education', 'marriage', 'age', 'pay_0', 'pay_2',\n",
       "       'pay_3', 'pay_4', 'pay_5', 'pay_6', 'bill_amt1', 'bill_amt2',\n",
       "       'bill_amt3', 'bill_amt4', 'bill_amt5', 'bill_amt6', 'pay_amt1',\n",
       "       'pay_amt2', 'pay_amt3', 'pay_amt4', 'pay_amt5', 'pay_amt6',\n",
       "       'default_payment_next_month'],\n",
       "      dtype='object')"
      ]
     },
     "metadata": {},
     "execution_count": 6
    }
   ],
   "metadata": {
    "scrolled": false
   }
  },
  {
   "cell_type": "markdown",
   "source": [
    "#### High level look at all columns"
   ],
   "metadata": {}
  },
  {
   "cell_type": "code",
   "execution_count": 7,
   "source": [
    "print(df.isnull().sum())\n",
    "df.describe()"
   ],
   "outputs": [
    {
     "output_type": "stream",
     "name": "stdout",
     "text": [
      "limit_bal                     0\n",
      "sex                           0\n",
      "education                     0\n",
      "marriage                      0\n",
      "age                           0\n",
      "pay_0                         0\n",
      "pay_2                         0\n",
      "pay_3                         0\n",
      "pay_4                         0\n",
      "pay_5                         0\n",
      "pay_6                         0\n",
      "bill_amt1                     0\n",
      "bill_amt2                     0\n",
      "bill_amt3                     0\n",
      "bill_amt4                     0\n",
      "bill_amt5                     0\n",
      "bill_amt6                     0\n",
      "pay_amt1                      0\n",
      "pay_amt2                      0\n",
      "pay_amt3                      0\n",
      "pay_amt4                      0\n",
      "pay_amt5                      0\n",
      "pay_amt6                      0\n",
      "default_payment_next_month    0\n",
      "dtype: int64\n"
     ]
    },
    {
     "output_type": "execute_result",
     "data": {
      "text/html": [
       "<div>\n",
       "<style scoped>\n",
       "    .dataframe tbody tr th:only-of-type {\n",
       "        vertical-align: middle;\n",
       "    }\n",
       "\n",
       "    .dataframe tbody tr th {\n",
       "        vertical-align: top;\n",
       "    }\n",
       "\n",
       "    .dataframe thead th {\n",
       "        text-align: right;\n",
       "    }\n",
       "</style>\n",
       "<table border=\"1\" class=\"dataframe\">\n",
       "  <thead>\n",
       "    <tr style=\"text-align: right;\">\n",
       "      <th></th>\n",
       "      <th>limit_bal</th>\n",
       "      <th>sex</th>\n",
       "      <th>education</th>\n",
       "      <th>marriage</th>\n",
       "      <th>age</th>\n",
       "      <th>pay_0</th>\n",
       "      <th>pay_2</th>\n",
       "      <th>pay_3</th>\n",
       "      <th>pay_4</th>\n",
       "      <th>pay_5</th>\n",
       "      <th>pay_6</th>\n",
       "      <th>bill_amt1</th>\n",
       "      <th>bill_amt2</th>\n",
       "      <th>bill_amt3</th>\n",
       "      <th>bill_amt4</th>\n",
       "      <th>bill_amt5</th>\n",
       "      <th>bill_amt6</th>\n",
       "      <th>pay_amt1</th>\n",
       "      <th>pay_amt2</th>\n",
       "      <th>pay_amt3</th>\n",
       "      <th>pay_amt4</th>\n",
       "      <th>pay_amt5</th>\n",
       "      <th>pay_amt6</th>\n",
       "      <th>default_payment_next_month</th>\n",
       "    </tr>\n",
       "  </thead>\n",
       "  <tbody>\n",
       "    <tr>\n",
       "      <th>count</th>\n",
       "      <td>30000.000000</td>\n",
       "      <td>30000.000000</td>\n",
       "      <td>30000.000000</td>\n",
       "      <td>30000.000000</td>\n",
       "      <td>30000.000000</td>\n",
       "      <td>30000.000000</td>\n",
       "      <td>30000.000000</td>\n",
       "      <td>30000.000000</td>\n",
       "      <td>30000.000000</td>\n",
       "      <td>30000.000000</td>\n",
       "      <td>30000.000000</td>\n",
       "      <td>30000.000000</td>\n",
       "      <td>30000.000000</td>\n",
       "      <td>3.000000e+04</td>\n",
       "      <td>30000.000000</td>\n",
       "      <td>30000.000000</td>\n",
       "      <td>30000.000000</td>\n",
       "      <td>30000.000000</td>\n",
       "      <td>3.000000e+04</td>\n",
       "      <td>30000.00000</td>\n",
       "      <td>30000.000000</td>\n",
       "      <td>30000.000000</td>\n",
       "      <td>30000.000000</td>\n",
       "      <td>30000.000000</td>\n",
       "    </tr>\n",
       "    <tr>\n",
       "      <th>mean</th>\n",
       "      <td>167484.322667</td>\n",
       "      <td>1.603733</td>\n",
       "      <td>1.853133</td>\n",
       "      <td>1.551867</td>\n",
       "      <td>35.485500</td>\n",
       "      <td>-0.016700</td>\n",
       "      <td>-0.133767</td>\n",
       "      <td>-0.166200</td>\n",
       "      <td>-0.220667</td>\n",
       "      <td>-0.266200</td>\n",
       "      <td>-0.291100</td>\n",
       "      <td>51223.330900</td>\n",
       "      <td>49179.075167</td>\n",
       "      <td>4.701315e+04</td>\n",
       "      <td>43262.948967</td>\n",
       "      <td>40311.400967</td>\n",
       "      <td>38871.760400</td>\n",
       "      <td>5663.580500</td>\n",
       "      <td>5.921163e+03</td>\n",
       "      <td>5225.68150</td>\n",
       "      <td>4826.076867</td>\n",
       "      <td>4799.387633</td>\n",
       "      <td>5215.502567</td>\n",
       "      <td>0.221200</td>\n",
       "    </tr>\n",
       "    <tr>\n",
       "      <th>std</th>\n",
       "      <td>129747.661567</td>\n",
       "      <td>0.489129</td>\n",
       "      <td>0.790349</td>\n",
       "      <td>0.521970</td>\n",
       "      <td>9.217904</td>\n",
       "      <td>1.123802</td>\n",
       "      <td>1.197186</td>\n",
       "      <td>1.196868</td>\n",
       "      <td>1.169139</td>\n",
       "      <td>1.133187</td>\n",
       "      <td>1.149988</td>\n",
       "      <td>73635.860576</td>\n",
       "      <td>71173.768783</td>\n",
       "      <td>6.934939e+04</td>\n",
       "      <td>64332.856134</td>\n",
       "      <td>60797.155770</td>\n",
       "      <td>59554.107537</td>\n",
       "      <td>16563.280354</td>\n",
       "      <td>2.304087e+04</td>\n",
       "      <td>17606.96147</td>\n",
       "      <td>15666.159744</td>\n",
       "      <td>15278.305679</td>\n",
       "      <td>17777.465775</td>\n",
       "      <td>0.415062</td>\n",
       "    </tr>\n",
       "    <tr>\n",
       "      <th>min</th>\n",
       "      <td>10000.000000</td>\n",
       "      <td>1.000000</td>\n",
       "      <td>0.000000</td>\n",
       "      <td>0.000000</td>\n",
       "      <td>21.000000</td>\n",
       "      <td>-2.000000</td>\n",
       "      <td>-2.000000</td>\n",
       "      <td>-2.000000</td>\n",
       "      <td>-2.000000</td>\n",
       "      <td>-2.000000</td>\n",
       "      <td>-2.000000</td>\n",
       "      <td>-165580.000000</td>\n",
       "      <td>-69777.000000</td>\n",
       "      <td>-1.572640e+05</td>\n",
       "      <td>-170000.000000</td>\n",
       "      <td>-81334.000000</td>\n",
       "      <td>-339603.000000</td>\n",
       "      <td>0.000000</td>\n",
       "      <td>0.000000e+00</td>\n",
       "      <td>0.00000</td>\n",
       "      <td>0.000000</td>\n",
       "      <td>0.000000</td>\n",
       "      <td>0.000000</td>\n",
       "      <td>0.000000</td>\n",
       "    </tr>\n",
       "    <tr>\n",
       "      <th>25%</th>\n",
       "      <td>50000.000000</td>\n",
       "      <td>1.000000</td>\n",
       "      <td>1.000000</td>\n",
       "      <td>1.000000</td>\n",
       "      <td>28.000000</td>\n",
       "      <td>-1.000000</td>\n",
       "      <td>-1.000000</td>\n",
       "      <td>-1.000000</td>\n",
       "      <td>-1.000000</td>\n",
       "      <td>-1.000000</td>\n",
       "      <td>-1.000000</td>\n",
       "      <td>3558.750000</td>\n",
       "      <td>2984.750000</td>\n",
       "      <td>2.666250e+03</td>\n",
       "      <td>2326.750000</td>\n",
       "      <td>1763.000000</td>\n",
       "      <td>1256.000000</td>\n",
       "      <td>1000.000000</td>\n",
       "      <td>8.330000e+02</td>\n",
       "      <td>390.00000</td>\n",
       "      <td>296.000000</td>\n",
       "      <td>252.500000</td>\n",
       "      <td>117.750000</td>\n",
       "      <td>0.000000</td>\n",
       "    </tr>\n",
       "    <tr>\n",
       "      <th>50%</th>\n",
       "      <td>140000.000000</td>\n",
       "      <td>2.000000</td>\n",
       "      <td>2.000000</td>\n",
       "      <td>2.000000</td>\n",
       "      <td>34.000000</td>\n",
       "      <td>0.000000</td>\n",
       "      <td>0.000000</td>\n",
       "      <td>0.000000</td>\n",
       "      <td>0.000000</td>\n",
       "      <td>0.000000</td>\n",
       "      <td>0.000000</td>\n",
       "      <td>22381.500000</td>\n",
       "      <td>21200.000000</td>\n",
       "      <td>2.008850e+04</td>\n",
       "      <td>19052.000000</td>\n",
       "      <td>18104.500000</td>\n",
       "      <td>17071.000000</td>\n",
       "      <td>2100.000000</td>\n",
       "      <td>2.009000e+03</td>\n",
       "      <td>1800.00000</td>\n",
       "      <td>1500.000000</td>\n",
       "      <td>1500.000000</td>\n",
       "      <td>1500.000000</td>\n",
       "      <td>0.000000</td>\n",
       "    </tr>\n",
       "    <tr>\n",
       "      <th>75%</th>\n",
       "      <td>240000.000000</td>\n",
       "      <td>2.000000</td>\n",
       "      <td>2.000000</td>\n",
       "      <td>2.000000</td>\n",
       "      <td>41.000000</td>\n",
       "      <td>0.000000</td>\n",
       "      <td>0.000000</td>\n",
       "      <td>0.000000</td>\n",
       "      <td>0.000000</td>\n",
       "      <td>0.000000</td>\n",
       "      <td>0.000000</td>\n",
       "      <td>67091.000000</td>\n",
       "      <td>64006.250000</td>\n",
       "      <td>6.016475e+04</td>\n",
       "      <td>54506.000000</td>\n",
       "      <td>50190.500000</td>\n",
       "      <td>49198.250000</td>\n",
       "      <td>5006.000000</td>\n",
       "      <td>5.000000e+03</td>\n",
       "      <td>4505.00000</td>\n",
       "      <td>4013.250000</td>\n",
       "      <td>4031.500000</td>\n",
       "      <td>4000.000000</td>\n",
       "      <td>0.000000</td>\n",
       "    </tr>\n",
       "    <tr>\n",
       "      <th>max</th>\n",
       "      <td>1000000.000000</td>\n",
       "      <td>2.000000</td>\n",
       "      <td>6.000000</td>\n",
       "      <td>3.000000</td>\n",
       "      <td>79.000000</td>\n",
       "      <td>8.000000</td>\n",
       "      <td>8.000000</td>\n",
       "      <td>8.000000</td>\n",
       "      <td>8.000000</td>\n",
       "      <td>8.000000</td>\n",
       "      <td>8.000000</td>\n",
       "      <td>964511.000000</td>\n",
       "      <td>983931.000000</td>\n",
       "      <td>1.664089e+06</td>\n",
       "      <td>891586.000000</td>\n",
       "      <td>927171.000000</td>\n",
       "      <td>961664.000000</td>\n",
       "      <td>873552.000000</td>\n",
       "      <td>1.684259e+06</td>\n",
       "      <td>896040.00000</td>\n",
       "      <td>621000.000000</td>\n",
       "      <td>426529.000000</td>\n",
       "      <td>528666.000000</td>\n",
       "      <td>1.000000</td>\n",
       "    </tr>\n",
       "  </tbody>\n",
       "</table>\n",
       "</div>"
      ],
      "text/plain": [
       "            limit_bal           sex     education      marriage           age  \\\n",
       "count    30000.000000  30000.000000  30000.000000  30000.000000  30000.000000   \n",
       "mean    167484.322667      1.603733      1.853133      1.551867     35.485500   \n",
       "std     129747.661567      0.489129      0.790349      0.521970      9.217904   \n",
       "min      10000.000000      1.000000      0.000000      0.000000     21.000000   \n",
       "25%      50000.000000      1.000000      1.000000      1.000000     28.000000   \n",
       "50%     140000.000000      2.000000      2.000000      2.000000     34.000000   \n",
       "75%     240000.000000      2.000000      2.000000      2.000000     41.000000   \n",
       "max    1000000.000000      2.000000      6.000000      3.000000     79.000000   \n",
       "\n",
       "              pay_0         pay_2         pay_3         pay_4         pay_5  \\\n",
       "count  30000.000000  30000.000000  30000.000000  30000.000000  30000.000000   \n",
       "mean      -0.016700     -0.133767     -0.166200     -0.220667     -0.266200   \n",
       "std        1.123802      1.197186      1.196868      1.169139      1.133187   \n",
       "min       -2.000000     -2.000000     -2.000000     -2.000000     -2.000000   \n",
       "25%       -1.000000     -1.000000     -1.000000     -1.000000     -1.000000   \n",
       "50%        0.000000      0.000000      0.000000      0.000000      0.000000   \n",
       "75%        0.000000      0.000000      0.000000      0.000000      0.000000   \n",
       "max        8.000000      8.000000      8.000000      8.000000      8.000000   \n",
       "\n",
       "              pay_6      bill_amt1      bill_amt2     bill_amt3  \\\n",
       "count  30000.000000   30000.000000   30000.000000  3.000000e+04   \n",
       "mean      -0.291100   51223.330900   49179.075167  4.701315e+04   \n",
       "std        1.149988   73635.860576   71173.768783  6.934939e+04   \n",
       "min       -2.000000 -165580.000000  -69777.000000 -1.572640e+05   \n",
       "25%       -1.000000    3558.750000    2984.750000  2.666250e+03   \n",
       "50%        0.000000   22381.500000   21200.000000  2.008850e+04   \n",
       "75%        0.000000   67091.000000   64006.250000  6.016475e+04   \n",
       "max        8.000000  964511.000000  983931.000000  1.664089e+06   \n",
       "\n",
       "           bill_amt4      bill_amt5      bill_amt6       pay_amt1  \\\n",
       "count   30000.000000   30000.000000   30000.000000   30000.000000   \n",
       "mean    43262.948967   40311.400967   38871.760400    5663.580500   \n",
       "std     64332.856134   60797.155770   59554.107537   16563.280354   \n",
       "min   -170000.000000  -81334.000000 -339603.000000       0.000000   \n",
       "25%      2326.750000    1763.000000    1256.000000    1000.000000   \n",
       "50%     19052.000000   18104.500000   17071.000000    2100.000000   \n",
       "75%     54506.000000   50190.500000   49198.250000    5006.000000   \n",
       "max    891586.000000  927171.000000  961664.000000  873552.000000   \n",
       "\n",
       "           pay_amt2      pay_amt3       pay_amt4       pay_amt5  \\\n",
       "count  3.000000e+04   30000.00000   30000.000000   30000.000000   \n",
       "mean   5.921163e+03    5225.68150    4826.076867    4799.387633   \n",
       "std    2.304087e+04   17606.96147   15666.159744   15278.305679   \n",
       "min    0.000000e+00       0.00000       0.000000       0.000000   \n",
       "25%    8.330000e+02     390.00000     296.000000     252.500000   \n",
       "50%    2.009000e+03    1800.00000    1500.000000    1500.000000   \n",
       "75%    5.000000e+03    4505.00000    4013.250000    4031.500000   \n",
       "max    1.684259e+06  896040.00000  621000.000000  426529.000000   \n",
       "\n",
       "            pay_amt6  default_payment_next_month  \n",
       "count   30000.000000                30000.000000  \n",
       "mean     5215.502567                    0.221200  \n",
       "std     17777.465775                    0.415062  \n",
       "min         0.000000                    0.000000  \n",
       "25%       117.750000                    0.000000  \n",
       "50%      1500.000000                    0.000000  \n",
       "75%      4000.000000                    0.000000  \n",
       "max    528666.000000                    1.000000  "
      ]
     },
     "metadata": {},
     "execution_count": 7
    }
   ],
   "metadata": {
    "scrolled": false
   }
  },
  {
   "cell_type": "markdown",
   "source": [
    "A few interesting things to note.\n",
    "1. There does not seem to be any missing values.\n",
    "2. default_payment_next_month has a mean of 0.2212, meaning that ~ 22% of customers in this dataset have defaulted in the next month. This is not super imbalanced, but should still be kept in mind once we are modelling.\n",
    "3. Education has a max of 6, but the data dictionary says there should only be 4 categories.\n",
    "4. Similarly, marriage has a minimum of 0, but the data dictionary says values should range between 1 and 3.\n",
    "5. Limit_bal has numbers rounded to the 10,000.\n",
    "6. The pay variables are ranging from -2 to 8, but the data dictionary says values should range between -1 and 9.\n",
    "7. All the variables in NT dollars likely are right tailed."
   ],
   "metadata": {}
  },
  {
   "cell_type": "code",
   "execution_count": 8,
   "source": [
    "def high_level_stats_cat(pd_df: pd.DataFrame, colname: list)->pd.DataFrame:\n",
    "    \"\"\"Takes in a dataframe and a variable and returns the count, the proportion, and the default rate for each level\"\"\"\n",
    "    final_df = pd_df.groupby(colname, as_index=False).agg(\n",
    "        count = ('default_payment_next_month', 'count'),\n",
    "        proportion = ('default_payment_next_month', 'count'),\n",
    "        default_rate = ('default_payment_next_month', 'mean')\n",
    "        )\n",
    "    final_df = final_df.assign(\n",
    "        proportion = final_df['proportion']/pd_df.shape[0])\n",
    "    \n",
    "    return final_df"
   ],
   "outputs": [],
   "metadata": {
    "scrolled": false
   }
  },
  {
   "cell_type": "markdown",
   "source": [
    "#### Looking at the sex variable\n",
    "From the data dictionary: Gender (1 = male; 2 = female).\n",
    "\n",
    "Men seem to have a slightly higher default rate than women (~24% to ~21%).\n",
    "The dataset has 60% women."
   ],
   "metadata": {}
  },
  {
   "cell_type": "code",
   "execution_count": 9,
   "source": [
    "high_level_stats_cat(df, ['sex'])"
   ],
   "outputs": [
    {
     "output_type": "execute_result",
     "data": {
      "text/html": [
       "<div>\n",
       "<style scoped>\n",
       "    .dataframe tbody tr th:only-of-type {\n",
       "        vertical-align: middle;\n",
       "    }\n",
       "\n",
       "    .dataframe tbody tr th {\n",
       "        vertical-align: top;\n",
       "    }\n",
       "\n",
       "    .dataframe thead th {\n",
       "        text-align: right;\n",
       "    }\n",
       "</style>\n",
       "<table border=\"1\" class=\"dataframe\">\n",
       "  <thead>\n",
       "    <tr style=\"text-align: right;\">\n",
       "      <th></th>\n",
       "      <th>sex</th>\n",
       "      <th>count</th>\n",
       "      <th>proportion</th>\n",
       "      <th>default_rate</th>\n",
       "    </tr>\n",
       "  </thead>\n",
       "  <tbody>\n",
       "    <tr>\n",
       "      <th>0</th>\n",
       "      <td>1</td>\n",
       "      <td>11888</td>\n",
       "      <td>0.396267</td>\n",
       "      <td>0.241672</td>\n",
       "    </tr>\n",
       "    <tr>\n",
       "      <th>1</th>\n",
       "      <td>2</td>\n",
       "      <td>18112</td>\n",
       "      <td>0.603733</td>\n",
       "      <td>0.207763</td>\n",
       "    </tr>\n",
       "  </tbody>\n",
       "</table>\n",
       "</div>"
      ],
      "text/plain": [
       "   sex  count  proportion  default_rate\n",
       "0    1  11888    0.396267      0.241672\n",
       "1    2  18112    0.603733      0.207763"
      ]
     },
     "metadata": {},
     "execution_count": 9
    }
   ],
   "metadata": {
    "scrolled": false
   }
  },
  {
   "cell_type": "markdown",
   "source": [
    "#### Looking at education\n",
    "From the data dictionary: Education (1 = graduate school; 2 = university; 3 = high school; 4 = others).\n",
    "\n",
    "Interestingly, it seems like more education leads to a lower chance of defaulting since the default rate of clients who went to grad school is lower than clients who went to university and high school.\n",
    "\n",
    "As pointed out earlier, we have levels that have no definitions in the data dictionary (namely 0, 5, 6). There's a few ways we can treat this:\n",
    "1. Leave it as is since the levels could be representing other types of education not spelled out in the dictionary.\n",
    "2. Combine all 3 levels into one.\n",
    "3. Add all 3 levels to the \"other\" level (4) since this level is supposed to be the catch all level (not 1, 2, or 3).\n",
    "\n",
    "Since there are 3 extra levels, I am leaning towards solution 2, which is to combine all 3 levels into level 4. If education shows itself to be a good predictive feature, we can come back and revisit this decision."
   ],
   "metadata": {}
  },
  {
   "cell_type": "code",
   "execution_count": 10,
   "source": [
    "high_level_stats_cat(df, ['education'])"
   ],
   "outputs": [
    {
     "output_type": "execute_result",
     "data": {
      "text/html": [
       "<div>\n",
       "<style scoped>\n",
       "    .dataframe tbody tr th:only-of-type {\n",
       "        vertical-align: middle;\n",
       "    }\n",
       "\n",
       "    .dataframe tbody tr th {\n",
       "        vertical-align: top;\n",
       "    }\n",
       "\n",
       "    .dataframe thead th {\n",
       "        text-align: right;\n",
       "    }\n",
       "</style>\n",
       "<table border=\"1\" class=\"dataframe\">\n",
       "  <thead>\n",
       "    <tr style=\"text-align: right;\">\n",
       "      <th></th>\n",
       "      <th>education</th>\n",
       "      <th>count</th>\n",
       "      <th>proportion</th>\n",
       "      <th>default_rate</th>\n",
       "    </tr>\n",
       "  </thead>\n",
       "  <tbody>\n",
       "    <tr>\n",
       "      <th>0</th>\n",
       "      <td>0</td>\n",
       "      <td>14</td>\n",
       "      <td>0.000467</td>\n",
       "      <td>0.000000</td>\n",
       "    </tr>\n",
       "    <tr>\n",
       "      <th>1</th>\n",
       "      <td>1</td>\n",
       "      <td>10585</td>\n",
       "      <td>0.352833</td>\n",
       "      <td>0.192348</td>\n",
       "    </tr>\n",
       "    <tr>\n",
       "      <th>2</th>\n",
       "      <td>2</td>\n",
       "      <td>14030</td>\n",
       "      <td>0.467667</td>\n",
       "      <td>0.237349</td>\n",
       "    </tr>\n",
       "    <tr>\n",
       "      <th>3</th>\n",
       "      <td>3</td>\n",
       "      <td>4917</td>\n",
       "      <td>0.163900</td>\n",
       "      <td>0.251576</td>\n",
       "    </tr>\n",
       "    <tr>\n",
       "      <th>4</th>\n",
       "      <td>4</td>\n",
       "      <td>123</td>\n",
       "      <td>0.004100</td>\n",
       "      <td>0.056911</td>\n",
       "    </tr>\n",
       "    <tr>\n",
       "      <th>5</th>\n",
       "      <td>5</td>\n",
       "      <td>280</td>\n",
       "      <td>0.009333</td>\n",
       "      <td>0.064286</td>\n",
       "    </tr>\n",
       "    <tr>\n",
       "      <th>6</th>\n",
       "      <td>6</td>\n",
       "      <td>51</td>\n",
       "      <td>0.001700</td>\n",
       "      <td>0.156863</td>\n",
       "    </tr>\n",
       "  </tbody>\n",
       "</table>\n",
       "</div>"
      ],
      "text/plain": [
       "   education  count  proportion  default_rate\n",
       "0          0     14    0.000467      0.000000\n",
       "1          1  10585    0.352833      0.192348\n",
       "2          2  14030    0.467667      0.237349\n",
       "3          3   4917    0.163900      0.251576\n",
       "4          4    123    0.004100      0.056911\n",
       "5          5    280    0.009333      0.064286\n",
       "6          6     51    0.001700      0.156863"
      ]
     },
     "metadata": {},
     "execution_count": 10
    }
   ],
   "metadata": {
    "scrolled": false
   }
  },
  {
   "cell_type": "markdown",
   "source": [
    "#### Looking at marriage\n",
    "From the data dictionary: Marital status (1 = married; 2 = single; 3 = others).\n",
    "\n",
    "Interesting to see that there is a \"0\" level since it is not defined in the data dictionary. One potential explanation for the presence of \"0\" could be that the field marriage was left blank when the data was gathered. Since there could be a specific reason why the field would be left blank, I can justify leaving it as its own category and not changing all \"0\" to \"3\"."
   ],
   "metadata": {}
  },
  {
   "cell_type": "code",
   "execution_count": 11,
   "source": [
    "high_level_stats_cat(df, ['marriage'])"
   ],
   "outputs": [
    {
     "output_type": "execute_result",
     "data": {
      "text/html": [
       "<div>\n",
       "<style scoped>\n",
       "    .dataframe tbody tr th:only-of-type {\n",
       "        vertical-align: middle;\n",
       "    }\n",
       "\n",
       "    .dataframe tbody tr th {\n",
       "        vertical-align: top;\n",
       "    }\n",
       "\n",
       "    .dataframe thead th {\n",
       "        text-align: right;\n",
       "    }\n",
       "</style>\n",
       "<table border=\"1\" class=\"dataframe\">\n",
       "  <thead>\n",
       "    <tr style=\"text-align: right;\">\n",
       "      <th></th>\n",
       "      <th>marriage</th>\n",
       "      <th>count</th>\n",
       "      <th>proportion</th>\n",
       "      <th>default_rate</th>\n",
       "    </tr>\n",
       "  </thead>\n",
       "  <tbody>\n",
       "    <tr>\n",
       "      <th>0</th>\n",
       "      <td>0</td>\n",
       "      <td>54</td>\n",
       "      <td>0.001800</td>\n",
       "      <td>0.092593</td>\n",
       "    </tr>\n",
       "    <tr>\n",
       "      <th>1</th>\n",
       "      <td>1</td>\n",
       "      <td>13659</td>\n",
       "      <td>0.455300</td>\n",
       "      <td>0.234717</td>\n",
       "    </tr>\n",
       "    <tr>\n",
       "      <th>2</th>\n",
       "      <td>2</td>\n",
       "      <td>15964</td>\n",
       "      <td>0.532133</td>\n",
       "      <td>0.209283</td>\n",
       "    </tr>\n",
       "    <tr>\n",
       "      <th>3</th>\n",
       "      <td>3</td>\n",
       "      <td>323</td>\n",
       "      <td>0.010767</td>\n",
       "      <td>0.260062</td>\n",
       "    </tr>\n",
       "  </tbody>\n",
       "</table>\n",
       "</div>"
      ],
      "text/plain": [
       "   marriage  count  proportion  default_rate\n",
       "0         0     54    0.001800      0.092593\n",
       "1         1  13659    0.455300      0.234717\n",
       "2         2  15964    0.532133      0.209283\n",
       "3         3    323    0.010767      0.260062"
      ]
     },
     "metadata": {},
     "execution_count": 11
    }
   ],
   "metadata": {
    "scrolled": false
   }
  },
  {
   "cell_type": "markdown",
   "source": [
    "#### Looking at limit_bal\n",
    "From the data dictionary: Amount of the given credit (NT dollar): it includes both the individual consumer credit and his/her family (supplementary) credit.\n",
    "\n",
    "The 4 most frequent specific credit balance limits are bellow 100,000 NT dollars while the majority of customers have a limit greater than 100,000 NT dollars. Since the distribution is right-tailed, it will make sense to transform the variable (using log10) to have a distribution closer to a normal distribution for modelling."
   ],
   "metadata": {}
  },
  {
   "cell_type": "code",
   "execution_count": 12,
   "source": [
    "high_level_stats_cat(df, ['limit_bal']).sort_values('count', ascending=False)"
   ],
   "outputs": [
    {
     "output_type": "execute_result",
     "data": {
      "text/html": [
       "<div>\n",
       "<style scoped>\n",
       "    .dataframe tbody tr th:only-of-type {\n",
       "        vertical-align: middle;\n",
       "    }\n",
       "\n",
       "    .dataframe tbody tr th {\n",
       "        vertical-align: top;\n",
       "    }\n",
       "\n",
       "    .dataframe thead th {\n",
       "        text-align: right;\n",
       "    }\n",
       "</style>\n",
       "<table border=\"1\" class=\"dataframe\">\n",
       "  <thead>\n",
       "    <tr style=\"text-align: right;\">\n",
       "      <th></th>\n",
       "      <th>limit_bal</th>\n",
       "      <th>count</th>\n",
       "      <th>proportion</th>\n",
       "      <th>default_rate</th>\n",
       "    </tr>\n",
       "  </thead>\n",
       "  <tbody>\n",
       "    <tr>\n",
       "      <th>5</th>\n",
       "      <td>50000</td>\n",
       "      <td>3365</td>\n",
       "      <td>0.112167</td>\n",
       "      <td>0.263001</td>\n",
       "    </tr>\n",
       "    <tr>\n",
       "      <th>2</th>\n",
       "      <td>20000</td>\n",
       "      <td>1976</td>\n",
       "      <td>0.065867</td>\n",
       "      <td>0.353239</td>\n",
       "    </tr>\n",
       "    <tr>\n",
       "      <th>3</th>\n",
       "      <td>30000</td>\n",
       "      <td>1610</td>\n",
       "      <td>0.053667</td>\n",
       "      <td>0.352795</td>\n",
       "    </tr>\n",
       "    <tr>\n",
       "      <th>8</th>\n",
       "      <td>80000</td>\n",
       "      <td>1567</td>\n",
       "      <td>0.052233</td>\n",
       "      <td>0.231653</td>\n",
       "    </tr>\n",
       "    <tr>\n",
       "      <th>20</th>\n",
       "      <td>200000</td>\n",
       "      <td>1528</td>\n",
       "      <td>0.050933</td>\n",
       "      <td>0.176702</td>\n",
       "    </tr>\n",
       "    <tr>\n",
       "      <th>...</th>\n",
       "      <td>...</td>\n",
       "      <td>...</td>\n",
       "      <td>...</td>\n",
       "      <td>...</td>\n",
       "    </tr>\n",
       "    <tr>\n",
       "      <th>79</th>\n",
       "      <td>800000</td>\n",
       "      <td>2</td>\n",
       "      <td>0.000067</td>\n",
       "      <td>0.000000</td>\n",
       "    </tr>\n",
       "    <tr>\n",
       "      <th>70</th>\n",
       "      <td>690000</td>\n",
       "      <td>1</td>\n",
       "      <td>0.000033</td>\n",
       "      <td>0.000000</td>\n",
       "    </tr>\n",
       "    <tr>\n",
       "      <th>33</th>\n",
       "      <td>327680</td>\n",
       "      <td>1</td>\n",
       "      <td>0.000033</td>\n",
       "      <td>1.000000</td>\n",
       "    </tr>\n",
       "    <tr>\n",
       "      <th>77</th>\n",
       "      <td>760000</td>\n",
       "      <td>1</td>\n",
       "      <td>0.000033</td>\n",
       "      <td>0.000000</td>\n",
       "    </tr>\n",
       "    <tr>\n",
       "      <th>80</th>\n",
       "      <td>1000000</td>\n",
       "      <td>1</td>\n",
       "      <td>0.000033</td>\n",
       "      <td>0.000000</td>\n",
       "    </tr>\n",
       "  </tbody>\n",
       "</table>\n",
       "<p>81 rows × 4 columns</p>\n",
       "</div>"
      ],
      "text/plain": [
       "    limit_bal  count  proportion  default_rate\n",
       "5       50000   3365    0.112167      0.263001\n",
       "2       20000   1976    0.065867      0.353239\n",
       "3       30000   1610    0.053667      0.352795\n",
       "8       80000   1567    0.052233      0.231653\n",
       "20     200000   1528    0.050933      0.176702\n",
       "..        ...    ...         ...           ...\n",
       "79     800000      2    0.000067      0.000000\n",
       "70     690000      1    0.000033      0.000000\n",
       "33     327680      1    0.000033      1.000000\n",
       "77     760000      1    0.000033      0.000000\n",
       "80    1000000      1    0.000033      0.000000\n",
       "\n",
       "[81 rows x 4 columns]"
      ]
     },
     "metadata": {},
     "execution_count": 12
    }
   ],
   "metadata": {
    "scrolled": false
   }
  },
  {
   "cell_type": "code",
   "execution_count": 14,
   "source": [
    "df_limit_bal = pd.DataFrame(high_level_stats_cat(df, ['limit_bal']).sort_values('limit_bal', ascending=False))\r\n",
    "\r\n",
    "plt.plot(np.log10(df_limit_bal['limit_bal']),df_limit_bal['default_rate'])\r\n",
    "plt.xlabel('Total Credit (log10)')\r\n",
    "plt.ylabel('Average Default Rate')\r\n",
    "plt.title('Average Default Rate by Total Credit')\r\n",
    "plt.show()"
   ],
   "outputs": [
    {
     "output_type": "display_data",
     "data": {
      "image/png": "[encoded data removed]",
      "text/plain": [
       "<Figure size 864x576 with 1 Axes>"
      ]
     },
     "metadata": {
      "needs_background": "light"
     }
    }
   ],
   "metadata": {
    "scrolled": false
   }
  },
  {
   "cell_type": "code",
   "execution_count": 15,
   "source": [
    "plt.hist(np.log10(df['limit_bal']), 25, alpha=0.75)\r\n",
    "plt.xlabel('Total Credit (log10)')\r\n",
    "plt.ylabel('Count')\r\n",
    "plt.title('Histogram of Total Credit')\r\n",
    "plt.show()"
   ],
   "outputs": [
    {
     "output_type": "display_data",
     "data": {
      "image/png": "[encoded data removed]",
      "text/plain": [
       "<Figure size 864x576 with 1 Axes>"
      ]
     },
     "metadata": {
      "needs_background": "light"
     }
    }
   ],
   "metadata": {
    "scrolled": false
   }
  },
  {
   "cell_type": "markdown",
   "source": [
    "#### Looking at age\n",
    "\n",
    "The histogram shows that most customers are between the ages of 20 and 45. The distribution tails off to older ages.\n",
    "The average default rate plot does not show much variation with different ages. The large swings in ages over 55 are likely due to the fact that we do not have many customers over 55 in our dataset."
   ],
   "metadata": {}
  },
  {
   "cell_type": "code",
   "execution_count": 16,
   "source": [
    "plt.hist(df['age'], 20, alpha=0.75)\r\n",
    "plt.xlabel('Age')\r\n",
    "plt.ylabel('Count')\r\n",
    "plt.title('Histogram of Client Age')\r\n",
    "plt.show()"
   ],
   "outputs": [
    {
     "output_type": "display_data",
     "data": {
      "image/png": "[encoded data removed]",
      "text/plain": [
       "<Figure size 864x576 with 1 Axes>"
      ]
     },
     "metadata": {
      "needs_background": "light"
     }
    }
   ],
   "metadata": {
    "scrolled": false
   }
  },
  {
   "cell_type": "code",
   "execution_count": 17,
   "source": [
    "df_age = pd.DataFrame(high_level_stats_cat(df, ['age']).sort_values('age', ascending=False))\r\n",
    "\r\n",
    "plt.plot(df_age['age'],df_age['default_rate'])\r\n",
    "plt.title('Average Default Rate by Age')\r\n",
    "plt.xlabel('Age')\r\n",
    "plt.ylabel('Average Default Rate')\r\n",
    "plt.show()"
   ],
   "outputs": [
    {
     "output_type": "error",
     "ename": "NameError",
     "evalue": "name 'high_level_stats_factor' is not defined",
     "traceback": [
      "\u001b[1;31m---------------------------------------------------------------------------\u001b[0m",
      "\u001b[1;31mNameError\u001b[0m                                 Traceback (most recent call last)",
      "\u001b[1;32mC:\\Users\\FELIXT~1\\AppData\\Local\\Temp/ipykernel_18968/1161673089.py\u001b[0m in \u001b[0;36m<module>\u001b[1;34m\u001b[0m\n\u001b[1;32m----> 1\u001b[1;33m \u001b[0mdf_age\u001b[0m \u001b[1;33m=\u001b[0m \u001b[0mpd\u001b[0m\u001b[1;33m.\u001b[0m\u001b[0mDataFrame\u001b[0m\u001b[1;33m(\u001b[0m\u001b[0mhigh_level_stats_factor\u001b[0m\u001b[1;33m(\u001b[0m\u001b[0mdf\u001b[0m\u001b[1;33m,\u001b[0m \u001b[1;33m[\u001b[0m\u001b[1;34m'age'\u001b[0m\u001b[1;33m]\u001b[0m\u001b[1;33m)\u001b[0m\u001b[1;33m.\u001b[0m\u001b[0msort_values\u001b[0m\u001b[1;33m(\u001b[0m\u001b[1;34m'age'\u001b[0m\u001b[1;33m,\u001b[0m \u001b[0mascending\u001b[0m\u001b[1;33m=\u001b[0m\u001b[1;32mFalse\u001b[0m\u001b[1;33m)\u001b[0m\u001b[1;33m)\u001b[0m\u001b[1;33m\u001b[0m\u001b[1;33m\u001b[0m\u001b[0m\n\u001b[0m\u001b[0;32m      2\u001b[0m \u001b[1;33m\u001b[0m\u001b[0m\n\u001b[0;32m      3\u001b[0m \u001b[0mplt\u001b[0m\u001b[1;33m.\u001b[0m\u001b[0mplot\u001b[0m\u001b[1;33m(\u001b[0m\u001b[0mdf_age\u001b[0m\u001b[1;33m[\u001b[0m\u001b[1;34m'age'\u001b[0m\u001b[1;33m]\u001b[0m\u001b[1;33m,\u001b[0m\u001b[0mdf_age\u001b[0m\u001b[1;33m[\u001b[0m\u001b[1;34m'default_rate'\u001b[0m\u001b[1;33m]\u001b[0m\u001b[1;33m)\u001b[0m\u001b[1;33m\u001b[0m\u001b[1;33m\u001b[0m\u001b[0m\n\u001b[0;32m      4\u001b[0m \u001b[0mplt\u001b[0m\u001b[1;33m.\u001b[0m\u001b[0mtitle\u001b[0m\u001b[1;33m(\u001b[0m\u001b[1;34m'Average Default Rate by Age'\u001b[0m\u001b[1;33m)\u001b[0m\u001b[1;33m\u001b[0m\u001b[1;33m\u001b[0m\u001b[0m\n\u001b[0;32m      5\u001b[0m \u001b[0mplt\u001b[0m\u001b[1;33m.\u001b[0m\u001b[0mxlabel\u001b[0m\u001b[1;33m(\u001b[0m\u001b[1;34m'Age'\u001b[0m\u001b[1;33m)\u001b[0m\u001b[1;33m\u001b[0m\u001b[1;33m\u001b[0m\u001b[0m\n",
      "\u001b[1;31mNameError\u001b[0m: name 'high_level_stats_factor' is not defined"
     ]
    }
   ],
   "metadata": {}
  },
  {
   "cell_type": "markdown",
   "source": [
    "#### Looking at the pay variables\n",
    "From the data dictionary: History of past payment. We tracked the past monthly payment records (from April to September, 2005) as follows: pay_0 the repayment status in September, 2005; pay_2 = the repayment status in August, 2005; . . .;pay_6 = the repayment status in April, 2005. \n",
    "The measurement scale for the repayment status is: \n",
    "- -1 = pay duly\n",
    "- 1 = payment delay for one month\n",
    "- 2 = payment delay for two months \n",
    "- . . . \n",
    "- 8 = payment delay for eight months\n",
    "- 9 = payment delay for nine months and above.\n",
    "\n",
    "Many customers have months with status -2, which is strange since it is not a status in the data dictionary. Looking more closely at individual examples in the data, it seems like -2 represents months where no payment was made and the bill amount was 0.\n",
    "\n",
    "Although these variables are factors, since they are ordinal, we could keep them as numerical.\n",
    "\n",
    "One interesting thing to see is that the previous month seems to be more correlated with the coming month. This is interesting for our model since it means that pay_0 could be the most useful of these variables at predicting the if the client would default in the coming month."
   ],
   "metadata": {}
  },
  {
   "cell_type": "code",
   "execution_count": 18,
   "source": [
    "df_pay_corr = df[['pay_0','pay_2', 'pay_3', 'pay_4', 'pay_5', 'pay_6']].corr()\r\n",
    "\r\n",
    "plt.title('Repayment Status Correlation Plot')\r\n",
    "sns.heatmap(df_pay_corr, \r\n",
    "            xticklabels=df_pay_corr.columns.values,\r\n",
    "            yticklabels=df_pay_corr.columns.values,\r\n",
    "            vmin=-1,\r\n",
    "            vmax=1,\r\n",
    "            annot=True)\r\n",
    "plt.show()"
   ],
   "outputs": [
    {
     "output_type": "display_data",
     "data": {
      "image/png": "[encoded data removed]",
      "text/plain": [
       "<Figure size 864x576 with 2 Axes>"
      ]
     },
     "metadata": {
      "needs_background": "light"
     }
    }
   ],
   "metadata": {
    "scrolled": false
   }
  },
  {
   "cell_type": "markdown",
   "source": [
    "#### Looking at the bill amount variables\n",
    "From the data dictionary: Amount of bill statement (NT dollar). bill_amt1 = amount of bill statement in September, 2005; bill_amt2 = amount of bill statement in August, 2005; . . .; bill_amt6 = amount of bill statement in April, 2005.\n",
    "\n",
    "Similarly to the payment status variables, adjacent months tend to be more correlated to one another."
   ],
   "metadata": {}
  },
  {
   "cell_type": "code",
   "execution_count": 19,
   "source": [
    "df_bill_amt_corr = df[['bill_amt1','bill_amt2', 'bill_amt3', 'bill_amt4', 'bill_amt5', 'bill_amt6']].corr()\r\n",
    "\r\n",
    "plt.title('Bill Amount Correlation Plot')\r\n",
    "sns.heatmap(df_bill_amt_corr, \r\n",
    "            xticklabels=df_bill_amt_corr.columns.values,\r\n",
    "            yticklabels=df_bill_amt_corr.columns.values,\r\n",
    "            vmin=-1,\r\n",
    "            vmax=1,\r\n",
    "            annot=True)\r\n",
    "plt.show()"
   ],
   "outputs": [
    {
     "output_type": "display_data",
     "data": {
      "image/png": "[encoded data removed]",
      "text/plain": [
       "<Figure size 864x576 with 2 Axes>"
      ]
     },
     "metadata": {
      "needs_background": "light"
     }
    }
   ],
   "metadata": {
    "scrolled": false
   }
  },
  {
   "cell_type": "markdown",
   "source": [
    "#### Looking at the pay_amt variables\n",
    "From the data dictionary: Amount of previous payment (NT dollar). pay_amt1 = amount paid in September, 2005; pay_amt2 = amount paid in August, 2005; . . .;pay_amt6 = amount paid in April, 2005.\n",
    "\n",
    "Interestingly, it seems like there is no correlation between the amounts paid in different months. This is interesting since the bill amounts seemed a lot more correlated, which means that many people are not paying their bills each month systematically."
   ],
   "metadata": {}
  },
  {
   "cell_type": "code",
   "execution_count": 20,
   "source": [
    "df_pay_amt_corr = df[['pay_amt1','pay_amt2', 'pay_amt3', 'pay_amt4', 'pay_amt5', 'pay_amt6']].corr()\r\n",
    "\r\n",
    "plt.title('Bill Amount Correlation Plot')\r\n",
    "sns.heatmap(df_pay_amt_corr, \r\n",
    "            xticklabels=df_pay_amt_corr.columns.values,\r\n",
    "            yticklabels=df_pay_amt_corr.columns.values,\r\n",
    "            vmin=-1,\r\n",
    "            vmax=1,\r\n",
    "            annot=True)\r\n",
    "plt.show()"
   ],
   "outputs": [
    {
     "output_type": "display_data",
     "data": {
      "image/png": "[encoded data removed]",
      "text/plain": [
       "<Figure size 864x576 with 2 Axes>"
      ]
     },
     "metadata": {
      "needs_background": "light"
     }
    }
   ],
   "metadata": {}
  },
  {
   "cell_type": "markdown",
   "source": [
    "## Data Preprocessing\n",
    "#### Categorical features\n",
    "1. Creating a function that removes unwanted levels in categorical features.\n",
    "2. Applying said function to education since it has 3 levels that I believe should be in \"other\".\n",
    "3. Creating the transformer which only does one hot encoding"
   ],
   "metadata": {}
  },
  {
   "cell_type": "code",
   "execution_count": 21,
   "source": [
    "def set_level_to_target(pd_df: pd.DataFrame, colname: str, remove_levels: list, target_level)->pd.DataFrame:\r\n",
    "    \"\"\"Takes a categorical variable and sets the levels to remove equal to the target level.\"\"\"\r\n",
    "    pd_df[colname] = np.where(np.isin(pd_df[colname], remove_levels), target_level, pd_df[colname])\r\n",
    "    return pd_df"
   ],
   "outputs": [],
   "metadata": {
    "scrolled": false
   }
  },
  {
   "cell_type": "code",
   "execution_count": 22,
   "source": [
    "df = set_level_to_target(df, 'education',[0,5,6],4)"
   ],
   "outputs": [],
   "metadata": {
    "scrolled": false
   }
  },
  {
   "cell_type": "code",
   "execution_count": 23,
   "source": [
    "CATEGORICAL_FEATURES = ['sex', 'education', 'marriage']\r\n",
    "categorical_transformer = OneHotEncoder()"
   ],
   "outputs": [],
   "metadata": {
    "scrolled": false
   }
  },
  {
   "cell_type": "markdown",
   "source": [
    "#### Numerical features\n",
    "1. The first step is to take the log10 of the available credit (limit_bal). This is done since the data is heavily right tailed and the transformation will help the feature look more like it is normally distributed. Also, unlike many of the other numerical variables in the dataset, it can receive the transfromation (0>limit_bal>infinity).\n",
    "2. The second step is the standard scaler, which centers the mean to 0 and changes the standard deviation to 1."
   ],
   "metadata": {}
  },
  {
   "cell_type": "code",
   "execution_count": 24,
   "source": [
    "df['limit_bal'] = np.log10(df['limit_bal'])"
   ],
   "outputs": [],
   "metadata": {
    "scrolled": false
   }
  },
  {
   "cell_type": "code",
   "execution_count": 25,
   "source": [
    "NUMERIC_FEATURES = ['limit_bal',\r\n",
    "                    'age',\r\n",
    "                    'pay_0',\r\n",
    "                    'pay_2',\r\n",
    "                    'pay_3',\r\n",
    "                    'pay_4',\r\n",
    "                    'pay_5',\r\n",
    "                    'pay_6',\r\n",
    "                    'bill_amt1',\r\n",
    "                    'bill_amt2',\r\n",
    "                    'bill_amt3',\r\n",
    "                    'bill_amt4',\r\n",
    "                    'bill_amt5',\r\n",
    "                    'bill_amt6',\r\n",
    "                    'pay_amt1',\r\n",
    "                    'pay_amt2',\r\n",
    "                    'pay_amt3',\r\n",
    "                    'pay_amt4',\r\n",
    "                    'pay_amt5',\r\n",
    "                    'pay_amt6']\r\n",
    "\r\n",
    "numeric_transformer = Pipeline(steps=[('scaler', StandardScaler())])"
   ],
   "outputs": [],
   "metadata": {
    "scrolled": false
   }
  },
  {
   "cell_type": "markdown",
   "source": [
    "#### Final preprocessor\n",
    "Finally, we can create our preprocessor using the two transformers we have built in the previous steps."
   ],
   "metadata": {}
  },
  {
   "cell_type": "code",
   "execution_count": 26,
   "source": [
    "preprocessor = ColumnTransformer(transformers=[('num', numeric_transformer, NUMERIC_FEATURES),\r\n",
    "                                               ('cat', categorical_transformer, CATEGORICAL_FEATURES)])"
   ],
   "outputs": [],
   "metadata": {
    "scrolled": false
   }
  },
  {
   "cell_type": "markdown",
   "source": [
    "#### Splitting the dataset\n",
    "The dataset is split between the train and test set with an 80%-20% split. We keep 20% of the observation to evaluate how the models perform on observations it has not seen."
   ],
   "metadata": {}
  },
  {
   "cell_type": "code",
   "execution_count": 27,
   "source": [
    "df_train, df_test = train_test_split(df, test_size=0.2, random_state=SEED, shuffle=True)\r\n",
    "\r\n",
    "X_train = df_train[CATEGORICAL_FEATURES + NUMERIC_FEATURES]\r\n",
    "X_test = df_test[CATEGORICAL_FEATURES + NUMERIC_FEATURES]\r\n",
    "\r\n",
    "y_train = df_train[TARGET]\r\n",
    "y_test = df_test[TARGET]"
   ],
   "outputs": [],
   "metadata": {
    "scrolled": false
   }
  },
  {
   "cell_type": "markdown",
   "source": [
    "## Modelling\n",
    "Since we are mainly interested in probabilities and not the actual classification, we must choose the metric appropriately. Log loss is a good choice since it does not depend on a probability threshold like sensitivity and specificity do for example. Therefore, we will be using log loss to measure our models. Remember that a lower log loss is better.\n",
    "#### Logistic regression\n",
    "Let's start with a logistic regression model as our base model so we can see how much we can improve with more complex models."
   ],
   "metadata": {}
  },
  {
   "cell_type": "code",
   "execution_count": 28,
   "source": [
    "log = Pipeline(steps=[('preprocessor', preprocessor),\r\n",
    "                      ('classifier', LogisticRegression(max_iter=1000))])\r\n",
    "\r\n",
    "log.fit(X_train, y_train)"
   ],
   "outputs": [
    {
     "output_type": "execute_result",
     "data": {
      "text/plain": [
       "Pipeline(steps=[('preprocessor',\n",
       "                 ColumnTransformer(transformers=[('num',\n",
       "                                                  Pipeline(steps=[('scaler',\n",
       "                                                                   StandardScaler())]),\n",
       "                                                  ['limit_bal', 'age', 'pay_0',\n",
       "                                                   'pay_2', 'pay_3', 'pay_4',\n",
       "                                                   'pay_5', 'pay_6',\n",
       "                                                   'bill_amt1', 'bill_amt2',\n",
       "                                                   'bill_amt3', 'bill_amt4',\n",
       "                                                   'bill_amt5', 'bill_amt6',\n",
       "                                                   'pay_amt1', 'pay_amt2',\n",
       "                                                   'pay_amt3', 'pay_amt4',\n",
       "                                                   'pay_amt5', 'pay_amt6']),\n",
       "                                                 ('cat', OneHotEncoder(),\n",
       "                                                  ['sex', 'education',\n",
       "                                                   'marriage'])])),\n",
       "                ('classifier', LogisticRegression(max_iter=1000))])"
      ]
     },
     "metadata": {},
     "execution_count": 28
    }
   ],
   "metadata": {
    "scrolled": false
   }
  },
  {
   "cell_type": "code",
   "execution_count": 29,
   "source": [
    "log_pred = log.predict_proba(X_test)\r\n",
    "\r\n",
    "log_train_loss = log_loss(y_train, log.predict_proba(X_train))\r\n",
    "log_test_loss = log_loss(y_test, log_pred)\r\n",
    "\r\n",
    "print('Training Loss: {}\\n'\\\r\n",
    "       'Test Loss:     {}'.format(log_train_loss, log_test_loss))"
   ],
   "outputs": [
    {
     "output_type": "stream",
     "name": "stdout",
     "text": [
      "Training Loss: 0.46161509300628467\n",
      "Test Loss:     0.47187017641789786\n"
     ]
    }
   ],
   "metadata": {
    "scrolled": false
   }
  },
  {
   "cell_type": "markdown",
   "source": [
    "The logistic model did not overfit since it has a test loss that is similar to its training loss. This model will serve as our baseline."
   ],
   "metadata": {}
  },
  {
   "cell_type": "markdown",
   "source": [
    "#### Random forest classifier\n",
    "Let's now look at a random forest classifier. A random forest is a meta estimator that fits a number of decision tree classifiers on various sub-samples of the dataset and uses averaging to improve the predictive accuracy and control over-fitting.\n",
    "\n",
    "For the next models, we will do cross validation using 5 folds and do a bit of hyperparameter tuning using random grid search in order to improve our models' performance."
   ],
   "metadata": {}
  },
  {
   "cell_type": "code",
   "execution_count": 30,
   "source": [
    "rfc = Pipeline(steps=[('preprocessor', preprocessor),\r\n",
    "                      ('classifier', RandomForestClassifier())])\r\n",
    "\r\n",
    "grid_param = {\r\n",
    "    'classifier__n_estimators': [1000, 1200, 1500],\r\n",
    "    'classifier__bootstrap': [True],\r\n",
    "    'classifier__max_depth': [15, 18, 21],\r\n",
    "    'classifier__min_impurity_decrease': [0.001, 0.005, 0.1],\r\n",
    "    'classifier__criterion': ['gini']\r\n",
    "}\r\n",
    "\r\n",
    "rfc_gd = RandomizedSearchCV(estimator=rfc,\r\n",
    "                            param_distributions=grid_param,\r\n",
    "                            n_iter=10,\r\n",
    "                            scoring='neg_log_loss',\r\n",
    "                            cv=FOLDS,\r\n",
    "                            n_jobs=-1)\r\n",
    "\r\n",
    "rfc_gd.fit(X_train, y_train)"
   ],
   "outputs": [
    {
     "output_type": "execute_result",
     "data": {
      "text/plain": [
       "RandomizedSearchCV(cv=5,\n",
       "                   estimator=Pipeline(steps=[('preprocessor',\n",
       "                                              ColumnTransformer(transformers=[('num',\n",
       "                                                                               Pipeline(steps=[('scaler',\n",
       "                                                                                                StandardScaler())]),\n",
       "                                                                               ['limit_bal',\n",
       "                                                                                'age',\n",
       "                                                                                'pay_0',\n",
       "                                                                                'pay_2',\n",
       "                                                                                'pay_3',\n",
       "                                                                                'pay_4',\n",
       "                                                                                'pay_5',\n",
       "                                                                                'pay_6',\n",
       "                                                                                'bill_amt1',\n",
       "                                                                                'bill_amt2',\n",
       "                                                                                'bill_amt3',\n",
       "                                                                                'bill_amt4',\n",
       "                                                                                'bill_amt5',\n",
       "                                                                                'bill_amt6',\n",
       "                                                                                'pay_amt1',\n",
       "                                                                                'pay_amt2',\n",
       "                                                                                'pay_amt3',\n",
       "                                                                                'pay_amt4',\n",
       "                                                                                'pay_amt5',\n",
       "                                                                                'pay_...\n",
       "                                                                              ('cat',\n",
       "                                                                               OneHotEncoder(),\n",
       "                                                                               ['sex',\n",
       "                                                                                'education',\n",
       "                                                                                'marriage'])])),\n",
       "                                             ('classifier',\n",
       "                                              RandomForestClassifier())]),\n",
       "                   n_jobs=-1,\n",
       "                   param_distributions={'classifier__bootstrap': [True],\n",
       "                                        'classifier__criterion': ['gini'],\n",
       "                                        'classifier__max_depth': [15, 18, 21],\n",
       "                                        'classifier__min_impurity_decrease': [0.001,\n",
       "                                                                              0.005,\n",
       "                                                                              0.1],\n",
       "                                        'classifier__n_estimators': [1000, 1200,\n",
       "                                                                     1500]},\n",
       "                   scoring='neg_log_loss')"
      ]
     },
     "metadata": {},
     "execution_count": 30
    }
   ],
   "metadata": {}
  },
  {
   "cell_type": "code",
   "execution_count": 31,
   "source": [
    "rfc_gd.best_params_"
   ],
   "outputs": [
    {
     "output_type": "execute_result",
     "data": {
      "text/plain": [
       "{'classifier__n_estimators': 1000,\n",
       " 'classifier__min_impurity_decrease': 0.001,\n",
       " 'classifier__max_depth': 21,\n",
       " 'classifier__criterion': 'gini',\n",
       " 'classifier__bootstrap': True}"
      ]
     },
     "metadata": {},
     "execution_count": 31
    }
   ],
   "metadata": {
    "scrolled": false
   }
  },
  {
   "cell_type": "code",
   "execution_count": 32,
   "source": [
    "rfc_pred = rfc_gd.predict_proba(X_test)\r\n",
    "\r\n",
    "rfc_train_loss = log_loss(y_train, rfc_gd.predict_proba(X_train))\r\n",
    "rfc_test_loss = log_loss(y_test, rfc_pred)\r\n",
    "\r\n",
    "print('Training Loss: {}\\n'\\\r\n",
    "       'Test Loss:     {}'.format(rfc_train_loss, rfc_test_loss)) "
   ],
   "outputs": [
    {
     "output_type": "stream",
     "name": "stdout",
     "text": [
      "Training Loss: 0.4401864218226277\n",
      "Test Loss:     0.45198212051836867\n"
     ]
    }
   ],
   "metadata": {
    "scrolled": true
   }
  },
  {
   "cell_type": "markdown",
   "source": [
    "With some random grid search, we were able to find a random forest model that performed better than the base logistic model. This model is our best one so far, but there are some concerns since the model seems to have been overfitting the training set."
   ],
   "metadata": {}
  },
  {
   "cell_type": "markdown",
   "source": [
    "#### K Nearest Neighbor (KNN)\n",
    "KNN uses the K nearest neighbors to make the prediction. We are using distance weights to allow for the probability to be more granular since we mostly care about the precision of the probability."
   ],
   "metadata": {}
  },
  {
   "cell_type": "code",
   "execution_count": 33,
   "source": [
    "knn = Pipeline(steps=[('preprocessor', preprocessor),\r\n",
    "                      ('classifier', KNeighborsClassifier())])\r\n",
    "\r\n",
    "grid_param = {\r\n",
    "    'classifier__n_neighbors': [5, 10, 15],\r\n",
    "    'classifier__p': [1, 2, 3, 4],\r\n",
    "    'classifier__weights': ['distance']\r\n",
    "}\r\n",
    "\r\n",
    "knn_gd = RandomizedSearchCV(estimator=knn,\r\n",
    "                            param_distributions=grid_param,\r\n",
    "                            n_iter=10,\r\n",
    "                            scoring='neg_log_loss',\r\n",
    "                            cv=FOLDS,\r\n",
    "                            n_jobs=-1)\r\n",
    "\r\n",
    "knn_gd.fit(X_train, y_train)"
   ],
   "outputs": [
    {
     "output_type": "execute_result",
     "data": {
      "text/plain": [
       "RandomizedSearchCV(cv=5,\n",
       "                   estimator=Pipeline(steps=[('preprocessor',\n",
       "                                              ColumnTransformer(transformers=[('num',\n",
       "                                                                               Pipeline(steps=[('scaler',\n",
       "                                                                                                StandardScaler())]),\n",
       "                                                                               ['limit_bal',\n",
       "                                                                                'age',\n",
       "                                                                                'pay_0',\n",
       "                                                                                'pay_2',\n",
       "                                                                                'pay_3',\n",
       "                                                                                'pay_4',\n",
       "                                                                                'pay_5',\n",
       "                                                                                'pay_6',\n",
       "                                                                                'bill_amt1',\n",
       "                                                                                'bill_amt2',\n",
       "                                                                                'bill_amt3',\n",
       "                                                                                'bill_amt4',\n",
       "                                                                                'bill_amt5',\n",
       "                                                                                'bill_amt6',\n",
       "                                                                                'pay_amt1',\n",
       "                                                                                'pay_amt2',\n",
       "                                                                                'pay_amt3',\n",
       "                                                                                'pay_amt4',\n",
       "                                                                                'pay_amt5',\n",
       "                                                                                'pay_amt6']),\n",
       "                                                                              ('cat',\n",
       "                                                                               OneHotEncoder(),\n",
       "                                                                               ['sex',\n",
       "                                                                                'education',\n",
       "                                                                                'marriage'])])),\n",
       "                                             ('classifier',\n",
       "                                              KNeighborsClassifier())]),\n",
       "                   n_jobs=-1,\n",
       "                   param_distributions={'classifier__n_neighbors': [5, 10, 15],\n",
       "                                        'classifier__p': [1, 2, 3, 4],\n",
       "                                        'classifier__weights': ['distance']},\n",
       "                   scoring='neg_log_loss')"
      ]
     },
     "metadata": {},
     "execution_count": 33
    }
   ],
   "metadata": {}
  },
  {
   "cell_type": "code",
   "execution_count": 34,
   "source": [
    "knn_gd.best_params_"
   ],
   "outputs": [
    {
     "output_type": "execute_result",
     "data": {
      "text/plain": [
       "{'classifier__weights': 'distance',\n",
       " 'classifier__p': 1,\n",
       " 'classifier__n_neighbors': 15}"
      ]
     },
     "metadata": {},
     "execution_count": 34
    }
   ],
   "metadata": {
    "scrolled": false
   }
  },
  {
   "cell_type": "code",
   "execution_count": 35,
   "source": [
    "knn_pred = knn_gd.predict_proba(X_test)\r\n",
    "\r\n",
    "knn_train_loss = log_loss(y_train, knn_gd.predict_proba(X_train))\r\n",
    "knn_test_loss = log_loss(y_test, knn_pred)\r\n",
    "\r\n",
    "print('Training Loss: {}\\n'\\\r\n",
    "       'Test Loss:     {}'.format(knn_train_loss, knn_test_loss))"
   ],
   "outputs": [
    {
     "output_type": "stream",
     "name": "stdout",
     "text": [
      "Training Loss: 0.0008522757226346465\n",
      "Test Loss:     0.9086144350275155\n"
     ]
    }
   ],
   "metadata": {
    "scrolled": false
   }
  },
  {
   "cell_type": "markdown",
   "source": [
    "This model is very bad since it is overfitting badly on the training set and performs very badly on the test set. We should consider another algorithm instead of KNN."
   ],
   "metadata": {}
  },
  {
   "cell_type": "markdown",
   "source": [
    "#### XGBoost\n",
    "Now, let's try XGBoost. XGBoost is a tree based algorithm that introduces boosting. The basic idea behind boosting algorithms is building a weak model, making conclusions about the various feature importance and parameters, and then using those conclusions to build a new, stronger model and capitalize on the misclassification error of the previous model and try to reduce it."
   ],
   "metadata": {}
  },
  {
   "cell_type": "code",
   "execution_count": 36,
   "source": [
    "xgc = Pipeline(steps=[('preprocessor', preprocessor),\r\n",
    "                      ('classifier', xgb.XGBClassifier())])\r\n",
    "\r\n",
    "grid_param = {\r\n",
    "    'classifier__learning_rate': [ 0.05, 0.1],\r\n",
    "    'classifier__min_split_loss': [0.1, 0.2, 0.3],\r\n",
    "    'classifier__max_depth': [6, 8],\r\n",
    "    'classifier__min_child_weight': [3, 4]\r\n",
    "}\r\n",
    "\r\n",
    "xgc_gd = RandomizedSearchCV(estimator=xgc,\r\n",
    "                            param_distributions=grid_param,\r\n",
    "                            n_iter=10,\r\n",
    "                            scoring='neg_log_loss',\r\n",
    "                            cv=FOLDS,\r\n",
    "                            n_jobs=-1)\r\n",
    "\r\n",
    "xgc_gd.fit(X_train, y_train)"
   ],
   "outputs": [
    {
     "output_type": "stream",
     "name": "stderr",
     "text": [
      "C:\\Users\\Felix Trepanier\\anaconda3\\lib\\site-packages\\xgboost\\sklearn.py:1146: UserWarning: The use of label encoder in XGBClassifier is deprecated and will be removed in a future release. To remove this warning, do the following: 1) Pass option use_label_encoder=False when constructing XGBClassifier object; and 2) Encode your labels (y) as integers starting with 0, i.e. 0, 1, 2, ..., [num_class - 1].\n",
      "  warnings.warn(label_encoder_deprecation_msg, UserWarning)\n"
     ]
    },
    {
     "output_type": "stream",
     "name": "stdout",
     "text": [
      "[14:15:33] WARNING: C:/Users/Administrator/workspace/xgboost-win64_release_1.4.0/src/learner.cc:1095: Starting in XGBoost 1.3.0, the default evaluation metric used with the objective 'binary:logistic' was changed from 'error' to 'logloss'. Explicitly set eval_metric if you'd like to restore the old behavior.\n"
     ]
    },
    {
     "output_type": "execute_result",
     "data": {
      "text/plain": [
       "RandomizedSearchCV(cv=5,\n",
       "                   estimator=Pipeline(steps=[('preprocessor',\n",
       "                                              ColumnTransformer(transformers=[('num',\n",
       "                                                                               Pipeline(steps=[('scaler',\n",
       "                                                                                                StandardScaler())]),\n",
       "                                                                               ['limit_bal',\n",
       "                                                                                'age',\n",
       "                                                                                'pay_0',\n",
       "                                                                                'pay_2',\n",
       "                                                                                'pay_3',\n",
       "                                                                                'pay_4',\n",
       "                                                                                'pay_5',\n",
       "                                                                                'pay_6',\n",
       "                                                                                'bill_amt1',\n",
       "                                                                                'bill_amt2',\n",
       "                                                                                'bill_amt3',\n",
       "                                                                                'bill_amt4',\n",
       "                                                                                'bill_amt5',\n",
       "                                                                                'bill_amt6',\n",
       "                                                                                'pay_amt1',\n",
       "                                                                                'pay_amt2',\n",
       "                                                                                'pay_amt3',\n",
       "                                                                                'pay_amt4',\n",
       "                                                                                'pay_amt5',\n",
       "                                                                                'pay_...\n",
       "                                                            random_state=None,\n",
       "                                                            reg_alpha=None,\n",
       "                                                            reg_lambda=None,\n",
       "                                                            scale_pos_weight=None,\n",
       "                                                            subsample=None,\n",
       "                                                            tree_method=None,\n",
       "                                                            validate_parameters=None,\n",
       "                                                            verbosity=None))]),\n",
       "                   n_jobs=-1,\n",
       "                   param_distributions={'classifier__learning_rate': [0.05,\n",
       "                                                                      0.1],\n",
       "                                        'classifier__max_depth': [6, 8],\n",
       "                                        'classifier__min_child_weight': [3, 4],\n",
       "                                        'classifier__min_split_loss': [0.1, 0.2,\n",
       "                                                                       0.3]},\n",
       "                   scoring='neg_log_loss')"
      ]
     },
     "metadata": {},
     "execution_count": 36
    }
   ],
   "metadata": {}
  },
  {
   "cell_type": "code",
   "execution_count": 37,
   "source": [
    "xgc_gd.best_params_"
   ],
   "outputs": [
    {
     "output_type": "execute_result",
     "data": {
      "text/plain": [
       "{'classifier__min_split_loss': 0.2,\n",
       " 'classifier__min_child_weight': 3,\n",
       " 'classifier__max_depth': 6,\n",
       " 'classifier__learning_rate': 0.05}"
      ]
     },
     "metadata": {},
     "execution_count": 37
    }
   ],
   "metadata": {
    "scrolled": false
   }
  },
  {
   "cell_type": "code",
   "execution_count": 38,
   "source": [
    "xgc_pred = xgc_gd.predict_proba(X_test)\r\n",
    "\r\n",
    "xgc_train_loss = log_loss(y_train, xgc_gd.predict_proba(X_train))\r\n",
    "xgc_test_loss = log_loss(y_test, xgc_pred)\r\n",
    "\r\n",
    "print('Training Loss: {}\\n'\\\r\n",
    "       'Test Loss:     {}'.format(xgc_train_loss, xgc_test_loss))"
   ],
   "outputs": [
    {
     "output_type": "stream",
     "name": "stdout",
     "text": [
      "Training Loss: 0.3866541002748224\n",
      "Test Loss:     0.4346499006813392\n"
     ]
    }
   ],
   "metadata": {
    "scrolled": false
   }
  },
  {
   "cell_type": "markdown",
   "source": [
    "So far, XGBoost is our best model with a test loss of 0.4346 There is a bit of overfitting on the training set, as examplified by the fact that training loss is lower at 0.3866. It had the following hyperparameters:\n",
    "- min_split_loss: 0.2\n",
    "- min_child_weight: 3\n",
    "- max_depth: 6\n",
    "- learning_rate: 0.05"
   ],
   "metadata": {}
  },
  {
   "cell_type": "markdown",
   "source": [
    "#### SGD\n",
    "This estimator implements regularized linear models with stochastic gradient descent (SGD) learning: the gradient of the loss is estimated each sample at a time and the model is updated along the way with a decreasing strength schedule (aka learning rate). The data should have zero mean and unit variance."
   ],
   "metadata": {}
  },
  {
   "cell_type": "code",
   "execution_count": 39,
   "source": [
    "sgd = Pipeline(steps=[('preprocessor', preprocessor),\r\n",
    "                      ('classifier', SGDClassifier())])\r\n",
    "\r\n",
    "grid_param = {\r\n",
    "    'classifier__loss': ['hinge','log','modified_huber'],\r\n",
    "    'classifier__penalty': ['l2', 'l1', 'elasticnet'],\r\n",
    "    'classifier__alpha': [0.001, 0.005, 0.01, 0.05]\r\n",
    "}\r\n",
    "\r\n",
    "sgd_gd = RandomizedSearchCV(estimator=sgd,\r\n",
    "                            param_distributions=grid_param,\r\n",
    "                            n_iter=10,\r\n",
    "                            scoring='neg_log_loss',\r\n",
    "                            cv=FOLDS,\r\n",
    "                            n_jobs=-1)\r\n",
    "\r\n",
    "sgd_gd.fit(X_train, y_train)"
   ],
   "outputs": [
    {
     "output_type": "stream",
     "name": "stderr",
     "text": [
      "C:\\Users\\Felix Trepanier\\anaconda3\\lib\\site-packages\\sklearn\\model_selection\\_search.py:925: UserWarning: One or more of the test scores are non-finite: [        nan -0.90650065         nan -0.78532427 -0.91558725         nan\n",
      "         nan -0.82732332 -0.86325707 -0.46820064]\n",
      "  category=UserWarning\n"
     ]
    },
    {
     "output_type": "execute_result",
     "data": {
      "text/plain": [
       "RandomizedSearchCV(cv=5,\n",
       "                   estimator=Pipeline(steps=[('preprocessor',\n",
       "                                              ColumnTransformer(transformers=[('num',\n",
       "                                                                               Pipeline(steps=[('scaler',\n",
       "                                                                                                StandardScaler())]),\n",
       "                                                                               ['limit_bal',\n",
       "                                                                                'age',\n",
       "                                                                                'pay_0',\n",
       "                                                                                'pay_2',\n",
       "                                                                                'pay_3',\n",
       "                                                                                'pay_4',\n",
       "                                                                                'pay_5',\n",
       "                                                                                'pay_6',\n",
       "                                                                                'bill_amt1',\n",
       "                                                                                'bill_amt2',\n",
       "                                                                                'bill_amt3',\n",
       "                                                                                'bill_amt4',\n",
       "                                                                                'bill_amt5',\n",
       "                                                                                'bill_amt6',\n",
       "                                                                                'pay_amt1',\n",
       "                                                                                'pay_amt2',\n",
       "                                                                                'pay_amt3',\n",
       "                                                                                'pay_amt4',\n",
       "                                                                                'pay_amt5',\n",
       "                                                                                'pay_amt6']),\n",
       "                                                                              ('cat',\n",
       "                                                                               OneHotEncoder(),\n",
       "                                                                               ['sex',\n",
       "                                                                                'education',\n",
       "                                                                                'marriage'])])),\n",
       "                                             ('classifier', SGDClassifier())]),\n",
       "                   n_jobs=-1,\n",
       "                   param_distributions={'classifier__alpha': [0.001, 0.005,\n",
       "                                                              0.01, 0.05],\n",
       "                                        'classifier__loss': ['hinge', 'log',\n",
       "                                                             'modified_huber'],\n",
       "                                        'classifier__penalty': ['l2', 'l1',\n",
       "                                                                'elasticnet']},\n",
       "                   scoring='neg_log_loss')"
      ]
     },
     "metadata": {},
     "execution_count": 39
    }
   ],
   "metadata": {}
  },
  {
   "cell_type": "code",
   "execution_count": 40,
   "source": [
    "sgd_gd.best_params_"
   ],
   "outputs": [
    {
     "output_type": "execute_result",
     "data": {
      "text/plain": [
       "{'classifier__penalty': 'l1',\n",
       " 'classifier__loss': 'log',\n",
       " 'classifier__alpha': 0.01}"
      ]
     },
     "metadata": {},
     "execution_count": 40
    }
   ],
   "metadata": {
    "scrolled": false
   }
  },
  {
   "cell_type": "code",
   "execution_count": 41,
   "source": [
    "sgd_pred = sgd_gd.predict_proba(X_test)\r\n",
    "\r\n",
    "sgd_train_loss = log_loss(y_train, sgd_gd.predict_proba(X_train))\r\n",
    "sgd_test_loss = log_loss(y_test, sgd_pred)\r\n",
    "\r\n",
    "print('Training Loss: {}\\n'\\\r\n",
    "       'Test Loss:     {}'.format(sgd_train_loss, sgd_test_loss))"
   ],
   "outputs": [
    {
     "output_type": "stream",
     "name": "stdout",
     "text": [
      "Training Loss: 0.4674157085797733\n",
      "Test Loss:     0.478394993630265\n"
     ]
    }
   ],
   "metadata": {
    "scrolled": false
   }
  },
  {
   "cell_type": "markdown",
   "source": [
    "Training loss and test loss are around the same, which tells us that there is no overfitting. The problem is that loss is higher than our base logistic model. Therefore, we will not select this model since it does not perform well on this data."
   ],
   "metadata": {}
  },
  {
   "cell_type": "markdown",
   "source": [
    "#### Ada Boost\n",
    "An AdaBoost classifier is a meta-estimator that begins by fitting a classifier on the original dataset and then fits additional copies of the classifier on the same dataset but where the weights of incorrectly classified instances are adjusted such that subsequent classifiers focus more on difficult cases."
   ],
   "metadata": {}
  },
  {
   "cell_type": "code",
   "execution_count": 42,
   "source": [
    "ada = Pipeline(steps=[('preprocessor', preprocessor),\r\n",
    "                      ('classifier', AdaBoostClassifier())])\r\n",
    "\r\n",
    "grid_param = {\r\n",
    "    'classifier__n_estimators': [10, 25, 50, 100],\r\n",
    "    'classifier__learning_rate': [0.001, 0.005, 0.01]\r\n",
    "}\r\n",
    "\r\n",
    "ada_gd = RandomizedSearchCV(estimator=ada,\r\n",
    "                            param_distributions=grid_param,\r\n",
    "                            n_iter=10,\r\n",
    "                            scoring='neg_log_loss',\r\n",
    "                            cv=FOLDS,\r\n",
    "                            n_jobs=-1)\r\n",
    "\r\n",
    "ada_gd.fit(X_train, y_train)"
   ],
   "outputs": [
    {
     "output_type": "execute_result",
     "data": {
      "text/plain": [
       "RandomizedSearchCV(cv=5,\n",
       "                   estimator=Pipeline(steps=[('preprocessor',\n",
       "                                              ColumnTransformer(transformers=[('num',\n",
       "                                                                               Pipeline(steps=[('scaler',\n",
       "                                                                                                StandardScaler())]),\n",
       "                                                                               ['limit_bal',\n",
       "                                                                                'age',\n",
       "                                                                                'pay_0',\n",
       "                                                                                'pay_2',\n",
       "                                                                                'pay_3',\n",
       "                                                                                'pay_4',\n",
       "                                                                                'pay_5',\n",
       "                                                                                'pay_6',\n",
       "                                                                                'bill_amt1',\n",
       "                                                                                'bill_amt2',\n",
       "                                                                                'bill_amt3',\n",
       "                                                                                'bill_amt4',\n",
       "                                                                                'bill_amt5',\n",
       "                                                                                'bill_amt6',\n",
       "                                                                                'pay_amt1',\n",
       "                                                                                'pay_amt2',\n",
       "                                                                                'pay_amt3',\n",
       "                                                                                'pay_amt4',\n",
       "                                                                                'pay_amt5',\n",
       "                                                                                'pay_amt6']),\n",
       "                                                                              ('cat',\n",
       "                                                                               OneHotEncoder(),\n",
       "                                                                               ['sex',\n",
       "                                                                                'education',\n",
       "                                                                                'marriage'])])),\n",
       "                                             ('classifier',\n",
       "                                              AdaBoostClassifier())]),\n",
       "                   n_jobs=-1,\n",
       "                   param_distributions={'classifier__learning_rate': [0.001,\n",
       "                                                                      0.005,\n",
       "                                                                      0.01],\n",
       "                                        'classifier__n_estimators': [10, 25, 50,\n",
       "                                                                     100]},\n",
       "                   scoring='neg_log_loss')"
      ]
     },
     "metadata": {},
     "execution_count": 42
    }
   ],
   "metadata": {}
  },
  {
   "cell_type": "code",
   "execution_count": 43,
   "source": [
    "ada_gd.best_params_"
   ],
   "outputs": [
    {
     "output_type": "execute_result",
     "data": {
      "text/plain": [
       "{'classifier__n_estimators': 50, 'classifier__learning_rate': 0.005}"
      ]
     },
     "metadata": {},
     "execution_count": 43
    }
   ],
   "metadata": {
    "scrolled": false
   }
  },
  {
   "cell_type": "code",
   "execution_count": 44,
   "source": [
    "ada_pred = ada_gd.predict_proba(X_test)\r\n",
    "\r\n",
    "ada_train_loss = log_loss(y_train, ada_gd.predict_proba(X_train))\r\n",
    "ada_test_loss = log_loss(y_test, ada_pred)\r\n",
    "\r\n",
    "print('Training Loss: {}\\n'\\\r\n",
    "       'Test Loss:     {}'.format(ada_train_loss, ada_test_loss))"
   ],
   "outputs": [
    {
     "output_type": "stream",
     "name": "stdout",
     "text": [
      "Training Loss: 0.4584585644377304\n",
      "Test Loss:     0.4719895399120798\n"
     ]
    }
   ],
   "metadata": {
    "scrolled": false
   }
  },
  {
   "cell_type": "markdown",
   "source": [
    "ADABooster performed similarly to SGD with very close training and test loss. Test loss is higher than "
   ],
   "metadata": {}
  },
  {
   "cell_type": "markdown",
   "source": [
    "#### Selecting a model\n",
    "Of the 6 models we have built so far, our XGBoost model is the one that has performed the best so far since it has the lowest log loss and the overfitting concerns are not too big. When we look at the feature importance plot, we can see that bill amounts in recent months, total credit (limit_bal), payment amounts in recent months, and age seem to be the most important features in our model. Interestingly, the payment statuses in recent months do not seem to be very important. This could be related to how the data was formated and would be a potential way to improve on this model."
   ],
   "metadata": {}
  },
  {
   "cell_type": "code",
   "execution_count": 45,
   "source": [
    "ENC_CATEGORICAL_FEATURES = xgc_gd.best_estimator_.named_steps['preprocessor'].transformers_[1][1].get_feature_names(CATEGORICAL_FEATURES).tolist()\r\n",
    "\r\n",
    "xgc_gd_copy = xgc_gd\r\n",
    "xgc_gd_copy.best_estimator_.named_steps['classifier'].get_booster().feature_names = NUMERIC_FEATURES + ENC_CATEGORICAL_FEATURES\r\n",
    "\r\n",
    "xgb.plot_importance(xgc_gd_copy.best_estimator_.named_steps['classifier'],\r\n",
    "                    height=0.9,\r\n",
    "                    title=\"Features Importance - XGBoost\")\r\n",
    "plt.show()"
   ],
   "outputs": [
    {
     "output_type": "display_data",
     "data": {
      "image/png": "[encoded data removed]",
      "text/plain": [
       "<Figure size 864x576 with 1 Axes>"
      ]
     },
     "metadata": {
      "needs_background": "light"
     }
    }
   ],
   "metadata": {}
  },
  {
   "cell_type": "markdown",
   "source": [
    "## Conclusion\n",
    "We started this project by doing an exploratory data analysis. This analysis helped us improve our understanding of the dataset and see that some categorical variables had levels that were not present in the data dictionary.\n",
    "\n",
    "We then built data transfomers (one for categorical features and the other for numerical features) to preprocess the dataset and get it ready for model building.\n",
    "\n",
    "During the model building phase we tested the following models:\n",
    "- A logistic regression to serve as our base model. It performed reasonably well with a test loss of 0.4718.\n",
    "- Random Forest, which beat the base model with a resulting test loss of 0.4416.\n",
    "- KNN, which was very bad with a test log loss of 0.9086\n",
    "- XGBoost, which ended up being our best model with a test loss of 0.4346.\n",
    "- SGD with a resulting test loss of 0.4725.\n",
    "- ADABoost with a resulting test loss of 0.4720.\n",
    "\n",
    "Finally, since XGBoost was our top performing model in the model building phase, we selected this algorithm to build our final model.\n",
    "\n",
    "#### Potential improvements\n",
    "- Figure out what the missing labels mean.\n",
    "- Split the payment status variables into numerical for ones that have a month (value >= 0), and dummies for the other levels.\n",
    "- Test more algorithms.\n",
    "- Try deep learning (Keras).\n",
    "- Do more hyperparameter tuning.\n",
    "- Class weights could be used since the target variable only represent ~22% of cases.\n",
    "- Looking at individual observations, it seems like mortgage were included in this dataset. I would consider splitting the two since there is a good chance that mortgage repayment and credit card repayment do not behave in the same way.\n",
    "\n",
    "#### How could this model be used by Credit Sesame\n",
    "Since Credit Sesame offers credit cards, this model could be used to predict monthly revenue from credit card repayment. Indeed, the probability prediction of this model can be multiplied with the amount owed for the next month to give the overall expected revenue from credit cards. The amount owed next month could also be predicted by another model. With these two models, it could then be possible to look further into the future and see how much revenue Credit Sesame could expect to get. In the end, the company would likely have a better understanding of its future cashflow and could therefore plan accordingly.\n",
    "\n",
    "Another way this model could be used by Credit Sesame would be to send alerts to clients the model believes are now likelier to miss a payment to remind them to pay their bill on time. Customers who are trying to improve their credit scores could benefit from this since they would have a reminder to pay their balance on time. This may not necessarily be in the best interest of the company since interest is usually accrued on late payments."
   ],
   "metadata": {}
  },
  {
   "cell_type": "code",
   "execution_count": null,
   "source": [],
   "outputs": [],
   "metadata": {}
  }
 ],
 "metadata": {
  "kernelspec": {
   "display_name": "Python 3 (ipykernel)",
   "language": "python",
   "name": "python3"
  },
  "language_info": {
   "codemirror_mode": {
    "name": "ipython",
    "version": 3
   },
   "file_extension": ".py",
   "mimetype": "text/x-python",
   "name": "python",
   "nbconvert_exporter": "python",
   "pygments_lexer": "ipython3",
   "version": "3.7.10"
  }
 },
 "nbformat": 4,
 "nbformat_minor": 5
}